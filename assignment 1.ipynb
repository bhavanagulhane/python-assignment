{
 "cells": [
  {
   "cell_type": "markdown",
   "metadata": {},
   "source": [
    "Q 1. In the below elements which of them are values or an expression? eg:- values can be integer or string and expressions will    be mathematical operators.\n",
    "* \n",
    "'hello'\n",
    "-7.8\n",
    "-\n",
    "/ \n",
    "+\t\n",
    "6 \n",
    "ans: 1]Value: 'hello'  -87.8   6      2]Expressions: * - / +\n",
    " "
   ]
  },
  {
   "cell_type": "markdown",
   "metadata": {},
   "source": [
    "Q 2. What is the difference between string and variable?\n",
    "ans:\n",
    "    a string is a value that representing text and variable is a name that can refer to any value.\n",
    "    variable can hold a string but a string can't hold variable.\n",
    "    in simple way variable is an identifier to store a value in  a memory location and to manipulate it if needed. A variable       can be of several types like integer, string, float, etc. based on the value you assign to it, eg. X= 1.10, X=5 etc\n",
    "    anything you assign to a variable using quotes (single or double or triple) will be considered as a string. Thus, a string     is one of several types of a variable, eg. a=\"10\", a='hello', s='''my name is bhavana'''."
   ]
  },
  {
   "cell_type": "markdown",
   "metadata": {},
   "source": [
    "    \n",
    "Q 3. Describe three different data types.\n",
    "ans:\n",
    "    data Data types are the classification or categorization of data items. it represent the kind of value that tells what    \n",
    "    oprations can be performed on particuler data.\n",
    "    data type in python: Numeric, Sequence type, set, Dictionary, Boolean.\n",
    "    \n",
    "   1] Numeric: it represent the data witch has numeric value it can be integer number, floating number, complex number it    \n",
    "    difine as int,float,complex\n",
    "    eg. a= 5, b= 0.5, c= 5 + 3j.\n",
    "    \n",
    "   2]Sequence type: sequence is the ordered collection of similar or different data types. Sequences allows to store multiple\n",
    "   values in an organized and efficient fashion.types in Python string, tuple,list.\n",
    "   eg.s= \"i am string\", l=['i am list'], t=('i', 'am','tuple')\n",
    "   \n",
    "   3] Boolean: Data type with one of the two built-in values, True or False. But non-Boolean objects can be evaluated in \n",
    "   Boolean context as well and determined to be true or false. It is denoted by the class bool.\n",
    "   Note – True and False with capital ‘T’ and ‘F’ are valid booleans otherwise python will throw an error. "
   ]
  },
  {
   "cell_type": "markdown",
   "metadata": {},
   "source": [
    "Q 4. What is an expression made up of? What do all expressions do? \n",
    "ans:\n",
    "    Expressions consist of 2 or more values and operators, and they can always evaluate down \n",
    "    to a single value. That means you can use expressions anywhere in Python code that you could also use a value.We have many\n",
    "    different types of expressions in Python.\n",
    "    1]Constant Expressions:it having constant value in expression for \n",
    "         eg. x = 7 + 0.9 \n",
    "    2]Arithmatic Expression:combination of numeric values, operators and sometimes parenthesis.by using this we can perform     \n",
    "         Addition(+): eg. x+Y, Subtraction(-): eg. x-Y, Multiplication(*) eg. x*Y, Division(/)eg. x/Y, Quotient(//)eg. x//Y,   \n",
    "         Reminder(%) eg. x%Y, Exponentiation(**) eg. x**Y,\n",
    "    3]Integral Expression:It produce only integer results after all computations and type conversions.\n",
    "         eg."
   ]
  },
  {
   "cell_type": "code",
   "execution_count": 10,
   "metadata": {},
   "outputs": [
    {
     "name": "stdout",
     "output_type": "stream",
     "text": [
      "18\n"
     ]
    }
   ],
   "source": [
    "a=13\n",
    "b= 5.0\n",
    "c= a + int(b)  \n",
    "print(c)     "
   ]
  },
  {
   "cell_type": "markdown",
   "metadata": {},
   "source": [
    "4]Floating Expression:It produce floating point numbers as result after all computations and type conversions\n",
    "eg:\n"
   ]
  },
  {
   "cell_type": "code",
   "execution_count": 11,
   "metadata": {},
   "outputs": [
    {
     "name": "stdout",
     "output_type": "stream",
     "text": [
      "2.6\n"
     ]
    }
   ],
   "source": [
    "a=13\n",
    "b= 5\n",
    "c= a / b \n",
    "print(c)"
   ]
  },
  {
   "cell_type": "markdown",
   "metadata": {},
   "source": [
    "5]Relational Expression: Arithmetic expressions are written on both sides of relational operator (> , < , >= , <=). \n",
    "         Those arithmetic expressions are evaluated first, and then compared as per relational operator and produce a boolean \n",
    "         output in the end. These expressions are also called Boolean expressions."
   ]
  },
  {
   "cell_type": "code",
   "execution_count": 9,
   "metadata": {},
   "outputs": [
    {
     "name": "stdout",
     "output_type": "stream",
     "text": [
      "True\n"
     ]
    }
   ],
   "source": [
    "a = 2\n",
    "b = 13\n",
    "c = 40\n",
    "d = 37\n",
    "p = (a + b) >= (c - d)\n",
    "print(p)"
   ]
  },
  {
   "cell_type": "markdown",
   "metadata": {},
   "source": [
    "6]Logical Expression:These expressions that result in either True or False. It basically specifies one or more conditions. \n",
    "         For example, (10 == 9) is a condition if 10 is equal to 9. As we know it is not correct, so it will return False.\n",
    "         Studying logical expressions, we also come across some logical operators which can be seen in logical expressions \n",
    "         most often. Here are some logical operators in Python\n",
    "          Operator  \tSyntax    \tFunctioning\n",
    "             and\t    P and Q \tIt returns true if both P and Q are true otherwise returns false\n",
    "             or\t        P or Q\t    It returns true if at least one of P and Q is true\n",
    "             not\t    not P\t    It returns true if condition P is false   "
   ]
  },
  {
   "cell_type": "code",
   "execution_count": 8,
   "metadata": {},
   "outputs": [
    {
     "name": "stdout",
     "output_type": "stream",
     "text": [
      "False\n",
      "True\n",
      "True\n"
     ]
    }
   ],
   "source": [
    "P = (10 == 9)\n",
    "Q = (7 > 5)\n",
    "R = P and Q       \n",
    "S = P or  Q\n",
    "T = not P \n",
    "print(R)\n",
    "print(S)\n",
    "print(T)"
   ]
  },
  {
   "cell_type": "markdown",
   "metadata": {},
   "source": [
    "7]Bitwise Expression: In which computations are performed at bit level."
   ]
  },
  {
   "cell_type": "code",
   "execution_count": 5,
   "metadata": {},
   "outputs": [
    {
     "name": "stdout",
     "output_type": "stream",
     "text": [
      "3 24\n"
     ]
    }
   ],
   "source": [
    "a = 12  \n",
    "x = a >> 2\n",
    "y = a << 1\n",
    "print(x, y)"
   ]
  },
  {
   "cell_type": "markdown",
   "metadata": {},
   "source": [
    "8]Combinational Expression: We can also use different types of expressions in a single expression, and that will be termed       as combinational expressions.\n",
    "  eg. "
   ]
  },
  {
   "cell_type": "code",
   "execution_count": 4,
   "metadata": {},
   "outputs": [
    {
     "name": "stdout",
     "output_type": "stream",
     "text": [
      "22\n"
     ]
    }
   ],
   "source": [
    "a = 16\n",
    "b = 12\n",
    "c = a + (b >> 1)\n",
    "print(c)  "
   ]
  },
  {
   "cell_type": "markdown",
   "metadata": {},
   "source": [
    "Q 5. This assignment statements, like spam = 10. What is the difference between an expression and a statement?\n",
    "ans:\n",
    "    Expression is made up of values, containers, and mathematical operators and the statement is just like a command that a python interpreter executes like print.\n",
    "  "
   ]
  },
  {
   "cell_type": "markdown",
   "metadata": {},
   "source": [
    "Q 6. After running the following code, what does the variable bacon contain?\n",
    "bacon = 22\n",
    "bacon + 1\n",
    "ans: 23"
   ]
  },
  {
   "cell_type": "code",
   "execution_count": 12,
   "metadata": {},
   "outputs": [
    {
     "data": {
      "text/plain": [
       "23"
      ]
     },
     "execution_count": 12,
     "metadata": {},
     "output_type": "execute_result"
    }
   ],
   "source": [
    "bacon = 22\n",
    "bacon + 1"
   ]
  },
  {
   "cell_type": "markdown",
   "metadata": {},
   "source": [
    "Q 7. What should the values of the following two terms be?\n",
    "'spam' + 'spamspam'\n",
    "'spam' * 3"
   ]
  },
  {
   "cell_type": "code",
   "execution_count": 15,
   "metadata": {},
   "outputs": [
    {
     "data": {
      "text/plain": [
       "'spamspamspam'"
      ]
     },
     "execution_count": 15,
     "metadata": {},
     "output_type": "execute_result"
    }
   ],
   "source": [
    "'spam' + 'spamspam'"
   ]
  },
  {
   "cell_type": "code",
   "execution_count": 17,
   "metadata": {},
   "outputs": [
    {
     "data": {
      "text/plain": [
       "'spamspamspam'"
      ]
     },
     "execution_count": 17,
     "metadata": {},
     "output_type": "execute_result"
    }
   ],
   "source": [
    "'spam' * 3"
   ]
  },
  {
   "cell_type": "markdown",
   "metadata": {},
   "source": [
    "Q 8. Why is eggs a valid variable name while 100 is invalid?\n",
    "ans: we cannaot start variable name from integer thus eggs is valid variable and 100 is invalid."
   ]
  },
  {
   "cell_type": "markdown",
   "metadata": {},
   "source": [
    "Q 9. What three functions can be used to get the integer, floating-point number, or string version of a value?\n",
    "ans: int(), float(), str()."
   ]
  },
  {
   "cell_type": "markdown",
   "metadata": {},
   "source": [
    "Q 10. Why does this expression cause an error? How can you fix it?\n",
    "'I have eaten ' + 99 + ' burritos.'\n"
   ]
  },
  {
   "cell_type": "code",
   "execution_count": 18,
   "metadata": {},
   "outputs": [
    {
     "ename": "TypeError",
     "evalue": "can only concatenate str (not \"int\") to str",
     "output_type": "error",
     "traceback": [
      "\u001b[1;31m---------------------------------------------------------------------------\u001b[0m",
      "\u001b[1;31mTypeError\u001b[0m                                 Traceback (most recent call last)",
      "\u001b[1;32m<ipython-input-18-d24137131a5c>\u001b[0m in \u001b[0;36m<module>\u001b[1;34m\u001b[0m\n\u001b[1;32m----> 1\u001b[1;33m \u001b[1;34m'I have eaten '\u001b[0m \u001b[1;33m+\u001b[0m \u001b[1;36m99\u001b[0m \u001b[1;33m+\u001b[0m \u001b[1;34m' burritos.'\u001b[0m\u001b[1;33m\u001b[0m\u001b[1;33m\u001b[0m\u001b[0m\n\u001b[0m",
      "\u001b[1;31mTypeError\u001b[0m: can only concatenate str (not \"int\") to str"
     ]
    }
   ],
   "source": [
    "'I have eaten ' + 99 + ' burritos.'"
   ]
  },
  {
   "cell_type": "code",
   "execution_count": 22,
   "metadata": {},
   "outputs": [
    {
     "name": "stdout",
     "output_type": "stream",
     "text": [
      "I have eaten99burritos.\n"
     ]
    }
   ],
   "source": [
    "a = \"I have eaten\" \n",
    "b = str(99)\n",
    "c = \"burritos.\"\n",
    "print(a + b + c)"
   ]
  },
  {
   "cell_type": "markdown",
   "metadata": {},
   "source": [
    "if we have to concatenate it we need to do typecasting."
   ]
  }
 ],
 "metadata": {
  "kernelspec": {
   "display_name": "Python 3",
   "language": "python",
   "name": "python3"
  },
  "language_info": {
   "codemirror_mode": {
    "name": "ipython",
    "version": 3
   },
   "file_extension": ".py",
   "mimetype": "text/x-python",
   "name": "python",
   "nbconvert_exporter": "python",
   "pygments_lexer": "ipython3",
   "version": "3.7.3"
  }
 },
 "nbformat": 4,
 "nbformat_minor": 2
}
